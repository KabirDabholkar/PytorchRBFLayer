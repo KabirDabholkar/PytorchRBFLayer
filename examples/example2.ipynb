{
 "cells": [
  {
   "cell_type": "code",
   "execution_count": 1,
   "id": "4dca7433",
   "metadata": {},
   "outputs": [],
   "source": [
    "import sys\n",
    "sys.path.append(\"..\")\n",
    "import torch\n",
    "import numpy as np\n",
    "import matplotlib.pyplot as plt\n",
    "from rbf_layer import RBFLayer, l_norm, rbf_gaussian"
   ]
  },
  {
   "cell_type": "code",
   "execution_count": 13,
   "id": "5a1929fb",
   "metadata": {},
   "outputs": [],
   "source": [
    "# Define an RBF layer where the dimensionality of the input feature is 2,\n",
    "# the number of kernels is 3, and 1 output feature\n",
    "\n",
    "rbf = RBFLayer(in_features_dim=1,\n",
    "               num_kernels=3,\n",
    "               out_features_dim=1,\n",
    "               radial_function=rbf_gaussian,\n",
    "               norm_function=l_norm,\n",
    "               normalization=True)"
   ]
  },
  {
   "cell_type": "code",
   "execution_count": 14,
   "id": "84d49e6d",
   "metadata": {},
   "outputs": [],
   "source": [
    "# Uniformly sample 100 points from the 2D plane\n",
    "x = torch.rand((100, 1))\n",
    "y = rbf(x)"
   ]
  },
  {
   "cell_type": "code",
   "execution_count": 15,
   "id": "9866fedf",
   "metadata": {},
   "outputs": [
    {
     "data": {
      "text/plain": [
       "[]"
      ]
     },
     "execution_count": 15,
     "metadata": {},
     "output_type": "execute_result"
    },
    {
     "data": {
      "image/png": "[encoded data removed]",
      "text/plain": [
       "<Figure size 432x288 with 1 Axes>"
      ]
     },
     "metadata": {
      "needs_background": "light"
     },
     "output_type": "display_data"
    }
   ],
   "source": [
    "# Plot results\n",
    "x_orig = x.detach().numpy()\n",
    "y_new = y.detach().numpy()\n",
    "\n",
    "\n",
    "plt.plot(x_orig, y_new)\n",
    "plt.xlabel('Input space')\n",
    "plt.ylabel('Output space')\n",
    "plt.grid()\n",
    "plt.plot()"
   ]
  },
  {
   "cell_type": "code",
   "execution_count": null,
   "id": "fb66c77e",
   "metadata": {},
   "outputs": [],
   "source": []
  }
 ],
 "metadata": {
  "kernelspec": {
   "display_name": "Python 3",
   "language": "python",
   "name": "python3"
  },
  "language_info": {
   "codemirror_mode": {
    "name": "ipython",
    "version": 3
   },
   "file_extension": ".py",
   "mimetype": "text/x-python",
   "name": "python",
   "nbconvert_exporter": "python",
   "pygments_lexer": "ipython3",
   "version": "3.8.8"
  }
 },
 "nbformat": 4,
 "nbformat_minor": 5
}
